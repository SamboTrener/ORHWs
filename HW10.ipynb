{
 "cells": [
  {
   "cell_type": "code",
   "execution_count": 3,
   "id": "162592a9",
   "metadata": {},
   "outputs": [
    {
     "name": "stderr",
     "output_type": "stream",
     "text": [
      "C:\\Users\\NITRO\\AppData\\Local\\Temp\\ipykernel_5780\\3264498323.py:30: FutureWarning: Using a non-tuple sequence for multidimensional indexing is deprecated; use `arr[tuple(seq)]` instead of `arr[seq]`. In the future this will be interpreted as an array index, `arr[np.array(seq)]`, which will result either in an error or a different result.\n",
      "  out[coords] = 255\n",
      "C:\\Users\\NITRO\\AppData\\Local\\Temp\\ipykernel_5780\\3264498323.py:36: FutureWarning: Using a non-tuple sequence for multidimensional indexing is deprecated; use `arr[tuple(seq)]` instead of `arr[seq]`. In the future this will be interpreted as an array index, `arr[np.array(seq)]`, which will result either in an error or a different result.\n",
      "  out[coords] = 0\n"
     ]
    },
    {
     "data": {
      "text/plain": [
       "-1"
      ]
     },
     "execution_count": 3,
     "metadata": {},
     "output_type": "execute_result"
    }
   ],
   "source": [
    "from tkinter import *\n",
    "from tkinter import ttk\n",
    " \n",
    "root = Tk()\n",
    "root.title(\"Choose amount of salt and papper\")\n",
    "root.geometry(\"250x200\") \n",
    " \n",
    "amount = DoubleVar(value=0.5)\n",
    " \n",
    "ttk.Label(textvariable=amount).pack(anchor=NW)\n",
    " \n",
    "horizontalScale = ttk.Scale(orient=HORIZONTAL, length=200, from_=0.05, to=1.0, variable=amount)\n",
    "horizontalScale.pack(anchor=NW)\n",
    " \n",
    "root.mainloop()\n",
    "\n",
    "import cv2\n",
    "import numpy as np\n",
    "\n",
    "image = cv2.imread(\"cat.jpg\",0)\n",
    "\n",
    "row,col = image.shape\n",
    "s_vs_p = 0.5\n",
    "amountD = amount.get()\n",
    "out = np.copy(image)\n",
    "      # Salt mode\n",
    "num_salt = np.ceil(amountD * image.size * s_vs_p)\n",
    "coords = [np.random.randint(0, i - 1, int(num_salt))\n",
    "        for i in image.shape]\n",
    "out[coords] = 255\n",
    "\n",
    "# Pepper mode\n",
    "num_pepper = np.ceil(amountD * image.size * (1. - s_vs_p))\n",
    "coords = [np.random.randint(0, i - 1, int(num_pepper))\n",
    "        for i in image.shape]\n",
    "out[coords] = 0\n",
    "\n",
    "cv2.imshow(\"out\", out)\n",
    "cv2.waitKey(0)\n",
    "\n",
    "\n",
    "median = cv2.medianBlur(src=out, ksize=5)\n",
    "\n",
    "cv2.imshow(\"median\",median)\n",
    "cv2.waitKey(0)\n"
   ]
  },
  {
   "cell_type": "code",
   "execution_count": null,
   "id": "7b5dbcdb",
   "metadata": {},
   "outputs": [],
   "source": []
  },
  {
   "cell_type": "code",
   "execution_count": null,
   "id": "840587b8",
   "metadata": {},
   "outputs": [],
   "source": []
  },
  {
   "cell_type": "code",
   "execution_count": null,
   "id": "be587964",
   "metadata": {},
   "outputs": [],
   "source": []
  }
 ],
 "metadata": {
  "kernelspec": {
   "display_name": "Python 3 (ipykernel)",
   "language": "python",
   "name": "python3"
  },
  "language_info": {
   "codemirror_mode": {
    "name": "ipython",
    "version": 3
   },
   "file_extension": ".py",
   "mimetype": "text/x-python",
   "name": "python",
   "nbconvert_exporter": "python",
   "pygments_lexer": "ipython3",
   "version": "3.9.12"
  }
 },
 "nbformat": 4,
 "nbformat_minor": 5
}
