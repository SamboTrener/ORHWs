{
 "cells": [
  {
   "cell_type": "code",
   "execution_count": 5,
   "id": "4ace65cc",
   "metadata": {},
   "outputs": [
    {
     "name": "stdout",
     "output_type": "stream",
     "text": [
      "(813, 695)\n",
      "(503, 487)\n",
      "(1091, 262)\n",
      "(789, 62)\n"
     ]
    },
    {
     "ename": "KeyboardInterrupt",
     "evalue": "",
     "output_type": "error",
     "traceback": [
      "\u001b[1;31m---------------------------------------------------------------------------\u001b[0m",
      "\u001b[1;31mKeyboardInterrupt\u001b[0m                         Traceback (most recent call last)",
      "Input \u001b[1;32mIn [5]\u001b[0m, in \u001b[0;36m<cell line: 16>\u001b[1;34m()\u001b[0m\n\u001b[0;32m     15\u001b[0m \u001b[38;5;28;01mwhile\u001b[39;00m(\u001b[38;5;241m1\u001b[39m):\n\u001b[0;32m     16\u001b[0m     cv2\u001b[38;5;241m.\u001b[39mimshow(\u001b[38;5;124m'\u001b[39m\u001b[38;5;124mimg_warp\u001b[39m\u001b[38;5;124m'\u001b[39m,img_warp)\n\u001b[1;32m---> 17\u001b[0m     k \u001b[38;5;241m=\u001b[39m \u001b[43mcv2\u001b[49m\u001b[38;5;241;43m.\u001b[39;49m\u001b[43mwaitKey\u001b[49m\u001b[43m(\u001b[49m\u001b[38;5;241;43m20\u001b[39;49m\u001b[43m)\u001b[49m \u001b[38;5;241m&\u001b[39m \u001b[38;5;241m0xFF\u001b[39m\n\u001b[0;32m     18\u001b[0m     \u001b[38;5;28;01mif\u001b[39;00m k \u001b[38;5;241m==\u001b[39m \u001b[38;5;241m27\u001b[39m:\n\u001b[0;32m     19\u001b[0m         \u001b[38;5;28;01mbreak\u001b[39;00m\n",
      "\u001b[1;31mKeyboardInterrupt\u001b[0m: "
     ]
    }
   ],
   "source": [
    "import cv2\n",
    "import numpy as np\n",
    "\n",
    "img_warp = cv2.imread(\"cards.jpg\")\n",
    "\n",
    "def draw_circle(event,x,y,flags,param):\n",
    "    global mouseX, mouseY\n",
    "    if event == cv2.EVENT_LBUTTONDBLCLK:\n",
    "        cv2.circle(img_warp, (x,y), 3, (255,255,0), -1)\n",
    "        mouseX, mouseY = x,y\n",
    "        \n",
    "cv2.imshow(\"img_warp\", img_warp)\n",
    "cv2.setMouseCallback('img_warp',draw_circle)\n",
    "\n",
    "while(1):\n",
    "    cv2.imshow('img_warp',img_warp)\n",
    "    k = cv2.waitKey(20) & 0xFF\n",
    "    if k == 27:\n",
    "        break\n",
    "    if k == ord('1'):\n",
    "        x1 = mouseX, mouseY\n",
    "        print(x1)\n",
    "    if k == ord('2'):\n",
    "        x2 = mouseX, mouseY\n",
    "        print(x2)\n",
    "    if k == ord('3'):\n",
    "        x3 = mouseX, mouseY\n",
    "        print(x3)\n",
    "    if k == ord('4'):\n",
    "        x4 = mouseX, mouseY\n",
    "        print(x4)\n",
    "    if k == ord('5'):\n",
    "        width, height = 250,350\n",
    "        pts1 = np.float32([[x1],[x2],[x3],[x4]])\n",
    "        pts2 = np.float32([[0,0],[width,0],[0,height],[width,height]])\n",
    "        matrix = cv2.getPerspectiveTransform(pts1,pts2)\n",
    "        imgOutput = cv2.warpPerspective(img_warp, matrix, (width, height))\n",
    "\n",
    "        cv2.imshow(\"Output\", imgOutput)\n",
    "        cv2.waitKey(0)"
   ]
  },
  {
   "cell_type": "code",
   "execution_count": null,
   "id": "2d7c5a24",
   "metadata": {},
   "outputs": [
    {
     "name": "stdout",
     "output_type": "stream",
     "text": [
      "(232, 674)\n",
      "(141, 601)\n",
      "(310, 367)\n",
      "(312, 286)\n",
      "(271, 253)\n",
      "(239, 136)\n"
     ]
    }
   ],
   "source": [
    "import cv2\n",
    "\n",
    "img = cv2.imread(\"map.jpg\")\n",
    "\n",
    "img = cv2.resize(img, (int(img.shape[1] / 2), int(img.shape[0] / 2)))\n",
    "\n",
    "def draw_circle(event,x,y,flags,param):\n",
    "    global mouseX, mouseY\n",
    "    if event == cv2.EVENT_LBUTTONDBLCLK:\n",
    "        cv2.circle(img, (x,y), 3, (255,255,0), -1)\n",
    "        mouseX, mouseY = x,y\n",
    "        \n",
    "cv2.imshow(\"img\", img)\n",
    "cv2.setMouseCallback('img',draw_circle)\n",
    "\n",
    "while(1):\n",
    "    cv2.imshow('img',img)\n",
    "    k = cv2.waitKey(20) & 0xFF\n",
    "    if k == 27:\n",
    "        break\n",
    "    if k == ord('1'):\n",
    "        x1 = mouseX, mouseY\n",
    "        print(x1)\n",
    "    if k == ord('2'):\n",
    "        x2 = mouseX, mouseY\n",
    "        print(x2)\n",
    "        cv2.line(img, x1, x2, (255,255,0), thickness = 3, lineType = cv2.LINE_AA)\n",
    "        x1 = x2\n",
    "        \n",
    "        cv2.imshow(\"img\", img)\n",
    "        cv2.waitKey(0)"
   ]
  },
  {
   "cell_type": "code",
   "execution_count": null,
   "id": "511a4d89",
   "metadata": {},
   "outputs": [],
   "source": []
  },
  {
   "cell_type": "code",
   "execution_count": null,
   "id": "3a2223ad",
   "metadata": {},
   "outputs": [],
   "source": []
  }
 ],
 "metadata": {
  "kernelspec": {
   "display_name": "Python 3 (ipykernel)",
   "language": "python",
   "name": "python3"
  },
  "language_info": {
   "codemirror_mode": {
    "name": "ipython",
    "version": 3
   },
   "file_extension": ".py",
   "mimetype": "text/x-python",
   "name": "python",
   "nbconvert_exporter": "python",
   "pygments_lexer": "ipython3",
   "version": "3.9.12"
  }
 },
 "nbformat": 4,
 "nbformat_minor": 5
}
