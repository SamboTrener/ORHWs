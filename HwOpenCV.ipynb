{
 "cells": [
  {
   "cell_type": "code",
   "execution_count": 70,
   "id": "236bb5f2-f5c8-4e8b-8bc7-478e7685b183",
   "metadata": {},
   "outputs": [],
   "source": [
    "import cv2\n",
    "\n",
    "img = cv2.imread('cat.jpg')\n",
    "\n",
    "cv2.imshow('cat',img)\n",
    "\n",
    "cv2.waitKey(0) \n",
    "  \n",
    "cv2.destroyAllWindows() "
   ]
  },
  {
   "cell_type": "code",
   "execution_count": 117,
   "id": "efc89d65-b718-4a09-880b-dd04403a1152",
   "metadata": {},
   "outputs": [],
   "source": [
    "down_width = 500\n",
    "down_height = 500\n",
    "points = (down_width, down_height)\n",
    "\n",
    "resized_with_points = cv2.resize(img, points, interpolation = cv2.INTER_LINEAR)\n",
    "cv2.imshow('resized cat with points',resized_with_points)\n",
    "\n",
    "cv2.waitKey(0) \n",
    "  \n",
    "cv2.destroyAllWindows() "
   ]
  },
  {
   "cell_type": "code",
   "execution_count": 105,
   "id": "09478d7a-3f14-47c8-8912-88ae2fc1de11",
   "metadata": {},
   "outputs": [],
   "source": [
    "resized_linear = cv2.resize(img, None,fx = 1, fy = 0.3, interpolation = cv2.INTER_LINEAR)\n",
    "resized_nearest = cv2.resize(img, None,fx =   1, fy = 0.3, interpolation = cv2.INTER_NEAREST)\n",
    "resized_area = cv2.resize(img, None,fx =  1, fy = 0.3, interpolation = cv2.INTER_AREA)\n",
    "resized_cubic = cv2.resize(img, None,fx =  1, fy = 0.3, interpolation = cv2.INTER_CUBIC)\n",
    "\n",
    "\n",
    "\n",
    "cv2.imshow('resized cat linear',resized_linear)\n",
    "cv2.imshow('resized cat nearest ',resized_nearest)\n",
    "cv2.imshow('resized cat area ',resized_area)\n",
    "cv2.imshow('resized cat cubic ',resized_cubic)\n",
    "\n",
    "cv2.waitKey(0) \n",
    "  \n",
    "cv2.destroyAllWindows() "
   ]
  },
  {
   "cell_type": "code",
   "execution_count": 124,
   "id": "72b5329d-50b8-424f-8cd4-42005371526d",
   "metadata": {},
   "outputs": [],
   "source": [
    "imgheight = resized_with_points.shape[0]\n",
    "imgwidth = resized_with_points.shape[1]\n",
    "squareSize = 100\n",
    "\n",
    "for y in range(0, imgheight, squareSize):\n",
    "    for x in range(0, imgwidth, squareSize):\n",
    "        cv2.rectangle(resized_with_points, (x, y), (x + squareSize, y + squareSize), (0, 0, 0), 3)\n",
    "        \n",
    "cv2.imshow(\"Patched Image\",resized_with_points)\n",
    "\n",
    "cv2.waitKey()\n",
    "\n",
    "cv2.destroyAllWindows()\n"
   ]
  },
  {
   "cell_type": "code",
   "execution_count": null,
   "id": "d31f6df2-af43-4d4f-b006-ad824c8fc999",
   "metadata": {},
   "outputs": [],
   "source": []
  }
 ],
 "metadata": {
  "kernelspec": {
   "display_name": "Python 3 (ipykernel)",
   "language": "python",
   "name": "python3"
  },
  "language_info": {
   "codemirror_mode": {
    "name": "ipython",
    "version": 3
   },
   "file_extension": ".py",
   "mimetype": "text/x-python",
   "name": "python",
   "nbconvert_exporter": "python",
   "pygments_lexer": "ipython3",
   "version": "3.9.12"
  }
 },
 "nbformat": 4,
 "nbformat_minor": 5
}
